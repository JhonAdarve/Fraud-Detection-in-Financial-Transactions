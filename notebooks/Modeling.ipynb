{
 "cells": [
  {
   "cell_type": "markdown",
   "metadata": {},
   "source": [
    "# Contenidos\n",
    "\n",
    "1. [Introducción](#Introducción)\n",
    "    - Explicación general del código\n",
    "\n",
    "2. [Importación de Paquetes](#Importación-de-Paquetes)\n",
    "    - Importación de librerías\n",
    "\n",
    "3. [Carga de Datos](#Carga-de-Datos)\n",
    "    - Descripción de los Datos\n",
    "    - Exploración Inicial\n",
    "\n",
    "4. [Preprocesamiento de Datos](#Preprocesamiento-de-Datos)\n",
    "    - Limpieza de Datos\n",
    "    - Transformación de Variables Categóricas\n",
    "    - Escalado de Variables Numéricas\n",
    "    - Balanceo del Dataset con SMOTE\n",
    "\n",
    "5. [División del Conjunto de Datos](#División-del-Conjunto-de-Datos)\n",
    "    - División en Entrenamiento y Prueba\n",
    "\n",
    "6. [Modelado](#Modelado)\n",
    "    - Modelos Implementados\n",
    "        - Regresión Logística\n",
    "        - Random Forest\n",
    "        - Máquina de Soporte Vectorial (SVM)\n",
    "        - K-Nearest Neighbors (KNN)\n",
    "        - XGBoost\n",
    "\n",
    "7. [Evaluación de Modelos](#Evaluación-de-Modelos)\n",
    "    - Métricas de Desempeño\n",
    "    - Análisis Comparativo de Modelos\n",
    "    - Selección del Mejor Modelo\n",
    "\n",
    "8. [Visualización de Resultados](#Visualización-de-Resultados)\n",
    "    - Comparación de Métricas\n",
    "    - Gráficos de Rendimiento\n",
    "\n",
    "9. [Conclusión y Recomendaciones](#Conclusión-y-Recomendaciones)\n",
    "\n",
    "10. [Referencias](#Referencias)"
   ]
  },
  {
   "cell_type": "markdown",
   "metadata": {},
   "source": [
    "# Introducción"
   ]
  },
  {
   "cell_type": "markdown",
   "metadata": {},
   "source": [
    "Este código realiza el preprocesamiento de datos, implementa SMOTE para balancear el conjunto de datos, entrena varios modelos de Machine Learning, calcula métricas de desempeño, y genera una tabla y gráficos comparativos de los modelos:\n",
    "\n",
    "### Explicación:\n",
    "\n",
    "1. **Preprocesamiento de datos:**\n",
    "   - Se eliminan columnas irrelevantes (`zipCodeOrigin`, `zipMerchant`).\n",
    "   - Se transforman las columnas categóricas en valores numéricos con `LabelEncoder`.\n",
    "   - Se escala el monto de las transacciones para normalizar los datos.\n",
    "\n",
    "2. **Balanceo del conjunto de datos:**\n",
    "   - Se utiliza SMOTE para balancear las clases en el conjunto de datos.\n",
    "\n",
    "3. **Entrenamiento de modelos:**\n",
    "   - Se entrenan cinco modelos: Regresión Logística, Bosques Aleatorios, Máquina de Soporte Vectorial, XGBoost, y K-Nearest Neighbors.\n",
    "\n",
    "4. **Cálculo de métricas:**\n",
    "   - Se calculan métricas de desempeño como `F1-Score`, `Recall`, `Precisión`, `AUC`, y `Exactitud`.\n",
    "\n",
    "5. **Comparación de modelos:**\n",
    "   - Se genera una tabla y gráficos para comparar el desempeño de los modelos y determinar el mejor.\n",
    "\n",
    "### Salida esperada:\n",
    "- Una tabla que clasifica los modelos de mejor a peor basado en `F1-Score`.\n",
    "- Gráficos que ilustran la comparación de las métricas y el ranking de los modelos."
   ]
  },
  {
   "cell_type": "markdown",
   "metadata": {},
   "source": [
    "# Importación de Paquetes"
   ]
  },
  {
   "cell_type": "code",
   "execution_count": 1,
   "metadata": {},
   "outputs": [],
   "source": [
    "# carga, lectura y procesamiento\n",
    "import pandas as pd\n",
    "import numpy as np\n",
    "from imblearn.over_sampling import SMOTE\n",
    "\n",
    "# Modelado\n",
    "from sklearn.model_selection import train_test_split\n",
    "from sklearn.preprocessing import LabelEncoder, StandardScaler\n",
    "from sklearn.ensemble import RandomForestClassifier\n",
    "from sklearn.linear_model import LogisticRegression\n",
    "from sklearn.svm import SVC\n",
    "from sklearn.neighbors import KNeighborsClassifier\n",
    "from xgboost import XGBClassifier\n",
    "\n",
    "# Metricas\n",
    "from sklearn.metrics import classification_report, confusion_matrix, roc_auc_score, accuracy_score, precision_score, recall_score, f1_score\n",
    "\n",
    "# Visualizaciones\n",
    "import matplotlib.pyplot as plt\n",
    "import seaborn as sns"
   ]
  },
  {
   "cell_type": "markdown",
   "metadata": {},
   "source": [
    "# Carga de Datos"
   ]
  },
  {
   "cell_type": "code",
   "execution_count": 2,
   "metadata": {},
   "outputs": [],
   "source": [
    "# Cargar los datos usando una ruta relativa desde notebooks\n",
    "data = pd.read_csv('../data/banksim.csv')\n",
    "\n",
    "# Mostrar las primeras filas para verificar la carga\n",
    "data.head()"
   ]
  },
  {
   "cell_type": "markdown",
   "metadata": {},
   "source": [
    "**Descripción del conjunto de datos:**\n",
    "Se tienen 9 variables y la variable objetivo:\n",
    "\n",
    "| **Columna**       | **Descripción**                                                                                                         | **Tipo de Datos** | **Valores/Notas**                                                                                   |\n",
    "|-------------------|-------------------------------------------------------------------------------------------------------------------------|-------------------|------------------------------------------------------------------------------------------------------|\n",
    "| **Step**          | Representa el día desde el inicio de la simulación. La simulación tiene 180 pasos, lo que equivale a 6 meses virtuales.  | Numérico          | 1-180                                                                                               |\n",
    "| **Customer**      | Identificador único para cada cliente.                                                                                  | Texto             | Ejemplo: 'C1093826151'                                                                               |\n",
    "| **zipCodeOrigin** | Código postal del origen o fuente de la transacción.                                                                     | Numérico          | Código postal de 5 dígitos                                                                           |\n",
    "| **Merchant**      | Identificador único del comerciante.                                                                                     | Texto             | Ejemplo: 'M348934600'                                                                                |\n",
    "| **zipMerchant**   | Código postal del comerciante.                                                                                           | Numérico          | Código postal de 5 dígitos                                                                           |\n",
    "| **Age**           | Edad categorizada del cliente.                                                                                           | Numérico          | 0: <= 18, 1: 19-25, 2: 26-35, 3: 36-45, 4: 46-55, 5: 56-65, 6: > 65, U: Desconocido                   |\n",
    "| **Gender**        | Género del cliente.                                                                                                      | Texto             | E: Empresa, F: Femenino, M: Masculino, U: Desconocido                                                |\n",
    "| **Category**      | Categoría de la compra realizada.                                                                                        | Texto             | Ejemplo: 'es_transportation', 'es_health', etc.                                                      |\n",
    "| **Amount**        | Monto de la transacción realizada.                                                                                       | Numérico          | Ejemplo: 4.55                                                                                        |\n",
    "| **Fraud**         | Variable objetivo que indica si la transacción es fraudulenta (1) o benigna (0).                                          | Binario           | 1: Fraudulenta, 0: No fraudulenta                                                                    |"
   ]
  },
  {
   "cell_type": "markdown",
   "metadata": {},
   "source": [
    "# Preprocesamiento de Datos"
   ]
  },
  {
   "cell_type": "code",
   "execution_count": 3,
   "metadata": {},
   "outputs": [],
   "source": [
    "## Eliminar columnas con un único valor (zipCodeOrigin y zipMerchant)\n",
    "data.drop(columns=['zipcodeOri', 'zipMerchant'], inplace=True)\n",
    "\n",
    "## Convertir variables categóricas en valores numéricos\n",
    "label_encoders = {}\n",
    "categorical_columns = ['customer', 'merchant', 'category', 'gender', 'age']\n",
    "\n",
    "for column in categorical_columns:\n",
    "    le = LabelEncoder()\n",
    "    data[column] = le.fit_transform(data[column])\n",
    "    label_encoders[column] = le\n",
    "\n",
    "## Escalar las variables numéricas\n",
    "scaler = StandardScaler()\n",
    "data[['amount']] = scaler.fit_transform(data[['amount']])"
   ]
  },
  {
   "cell_type": "code",
   "execution_count": 4,
   "metadata": {},
   "outputs": [],
   "source": [
    "## Definir variables independientes y dependientes\n",
    "X = data.drop(columns=['fraud'])  # Variables independientes\n",
    "y = data['fraud']  # Variable objetivo"
   ]
  },
  {
   "cell_type": "code",
   "execution_count": 5,
   "metadata": {},
   "outputs": [],
   "source": [
    "## Balancear el conjunto de datos con SMOTE\n",
    "smote = SMOTE(random_state=42)\n",
    "X_balanced, y_balanced = smote.fit_resample(X, y)"
   ]
  },
  {
   "cell_type": "markdown",
   "metadata": {},
   "source": [
    "# División del Conjunto de Datos"
   ]
  },
  {
   "cell_type": "code",
   "execution_count": 6,
   "metadata": {},
   "outputs": [],
   "source": [
    "# Dividir los datos en conjuntos de entrenamiento y prueba\n",
    "X_train, X_test, y_train, y_test = train_test_split(X_balanced, y_balanced, test_size=0.2, random_state=42)"
   ]
  },
  {
   "cell_type": "markdown",
   "metadata": {},
   "source": [
    "# Modelado"
   ]
  },
  {
   "cell_type": "code",
   "execution_count": null,
   "metadata": {},
   "outputs": [
    {
     "name": "stderr",
     "output_type": "stream",
     "text": [
      "c:\\Users\\jadarve\\AppData\\Local\\anaconda3\\Lib\\site-packages\\sklearn\\linear_model\\_logistic.py:460: ConvergenceWarning: lbfgs failed to converge (status=1):\n",
      "STOP: TOTAL NO. of ITERATIONS REACHED LIMIT.\n",
      "\n",
      "Increase the number of iterations (max_iter) or scale the data as shown in:\n",
      "    https://scikit-learn.org/stable/modules/preprocessing.html\n",
      "Please also refer to the documentation for alternative solver options:\n",
      "    https://scikit-learn.org/stable/modules/linear_model.html#logistic-regression\n",
      "  n_iter_i = _check_optimize_result(\n"
     ]
    }
   ],
   "source": [
    "modelos = {\n",
    "    \"Regresión Logística\": LogisticRegression(),\n",
    "    \"Bosques Aleatorios\": RandomForestClassifier(),\n",
    "    \"Máquina de Soporte Vectorial\": SVC(probability=True),\n",
    "    \"K-Nearest Neighbors\": KNeighborsClassifier(),\n",
    "    \"XGBoost\": XGBClassifier(eval_metric='logloss', use_label_encoder=False, random_state=42)\n",
    "}\n",
    "\n",
    "resultados = []\n",
    "\n",
    "for nombre, modelo in modelos.items():\n",
    "    # Entrenar el modelo\n",
    "    modelo.fit(X_train, y_train)\n",
    "    \n",
    "    # Predicciones\n",
    "    y_pred = modelo.predict(X_test)\n",
    "    y_prob = modelo.predict_proba(X_test)[:, 1] if hasattr(modelo, \"predict_proba\") else None\n",
    "    \n",
    "    # Calcular métricas\n",
    "    precision = precision_score(y_test, y_pred)\n",
    "    recall = recall_score(y_test, y_pred)\n",
    "    f1 = f1_score(y_test, y_pred)\n",
    "    auc = roc_auc_score(y_test, y_prob) if y_prob is not None else None\n",
    "    accuracy = accuracy_score(y_test, y_pred)\n",
    "    \n",
    "    resultados.append({\n",
    "        \"Modelo\": nombre,\n",
    "        \"Precisión\": precision,\n",
    "        \"Recall\": recall,\n",
    "        \"F1-Score\": f1,\n",
    "        \"AUC\": auc,\n",
    "        \"Exactitud\": accuracy\n",
    "    })\n",
    "\n",
    "# Convertir resultados en DataFrame y ordenarlos\n",
    "resultados_df = pd.DataFrame(resultados).sort_values(by=\"F1-Score\", ascending=False)"
   ]
  },
  {
   "cell_type": "markdown",
   "metadata": {},
   "source": [
    "# Evaluación de Modelos"
   ]
  },
  {
   "cell_type": "markdown",
   "metadata": {},
   "source": [
    "**Comparativa de las metricas de desempeño:**"
   ]
  },
  {
   "cell_type": "code",
   "execution_count": null,
   "metadata": {},
   "outputs": [],
   "source": [
    "resultados_df"
   ]
  },
  {
   "cell_type": "markdown",
   "metadata": {},
   "source": [
    "**Selección del mejor modelo:**\n",
    "\n",
    "El mejor modelo es... porque ...\n"
   ]
  },
  {
   "cell_type": "markdown",
   "metadata": {},
   "source": [
    "# Visualización de Resultados"
   ]
  },
  {
   "cell_type": "code",
   "execution_count": null,
   "metadata": {},
   "outputs": [],
   "source": [
    "## Gráfico de barras para las métricas\n",
    "plt.figure(figsize=(12, 7))\n",
    "sns.barplot(data=resultados_df.melt(id_vars=[\"Modelo\"], value_vars=[\"F1-Score\", \"Precisión\", \"Recall\", \"AUC\"]),\n",
    "            x=\"variable\", y=\"value\", hue=\"Modelo\", palette=\"Blues\")\n",
    "plt.title(\"Comparación de Modelos por Métricas\")\n",
    "plt.ylabel(\"Valor\")\n",
    "plt.xlabel(\"Métricas\")\n",
    "plt.legend(title=\"Modelo\")\n",
    "plt.show()"
   ]
  },
  {
   "cell_type": "code",
   "execution_count": null,
   "metadata": {},
   "outputs": [],
   "source": [
    "## Gráfico de ranking por F1-Score\n",
    "plt.figure(figsize=(10, 6))\n",
    "sns.barplot(data=resultados_df, x=\"F1-Score\", y=\"Modelo\", palette=\"Blues\")\n",
    "plt.title(\"Ranking de Modelos por F1-Score\")\n",
    "plt.xlabel(\"F1-Score\")\n",
    "plt.ylabel(\"Modelo\")\n",
    "plt.show()"
   ]
  },
  {
   "cell_type": "markdown",
   "metadata": {},
   "source": [
    "# Conclusión y Recomendaciones"
   ]
  },
  {
   "cell_type": "markdown",
   "metadata": {},
   "source": [
    "Redactar conclusión recomendando por que usar el modelo seleccionado"
   ]
  },
  {
   "cell_type": "markdown",
   "metadata": {},
   "source": [
    "# Referencias"
   ]
  },
  {
   "cell_type": "markdown",
   "metadata": {},
   "source": [
    "Lopez-Rojas, Edgar Alonso ; Axelsson, Stefan\n",
    "\n",
    "Banksim: A bank payments simulator for fraud detection research Inproceedings\n",
    "\n",
    "26th European Modeling and Simulation Symposium, EMSS 2014, Bordeaux, France, pp. 144–152, Dime University of Genoa, 2014, ISBN: 9788897999324.\n",
    "\n",
    "https://www.researchgate.net/publication/265736405_BankSim_A_Bank_Payment_Simulation_for_Fraud_Detection_Research"
   ]
  }
 ],
 "metadata": {
  "kernelspec": {
   "display_name": "base",
   "language": "python",
   "name": "python3"
  },
  "language_info": {
   "codemirror_mode": {
    "name": "ipython",
    "version": 3
   },
   "file_extension": ".py",
   "mimetype": "text/x-python",
   "name": "python",
   "nbconvert_exporter": "python",
   "pygments_lexer": "ipython3",
   "version": "3.11.5"
  }
 },
 "nbformat": 4,
 "nbformat_minor": 2
}
